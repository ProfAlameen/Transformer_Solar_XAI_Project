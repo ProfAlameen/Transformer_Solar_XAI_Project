{
 "cells": [
  {
   "cell_type": "markdown",
   "id": "036524ed",
   "metadata": {},
   "source": [
    "# Multi-City Feature Engineering for Solar Forecasting\n",
    "This notebook extracts and generates engineered features for each processed city dataset."
   ]
  },
  {
   "cell_type": "code",
   "execution_count": null,
   "id": "cee81350",
   "metadata": {},
   "outputs": [],
   "source": [
    "import pandas as pd\n",
    "import numpy as np\n",
    "import os\n",
    "from sklearn.preprocessing import MinMaxScaler\n",
    "\n",
    "data_dir = '../data/processed'\n",
    "output_dir = '../data/features'\n",
    "os.makedirs(output_dir, exist_ok=True)\n",
    "\n",
    "cities = ['riyadh', 'tabuk', 'alula', 'abha', 'dammam']\n"
   ]
  },
  {
   "cell_type": "code",
   "execution_count": null,
   "id": "3f1a4d5b",
   "metadata": {},
   "outputs": [],
   "source": [
    "for city in cities:\n",
    "    print(f\"🔧 Processing features for {city.title()}...\")\n",
    "    input_path = os.path.join(data_dir, f\"{city}_processed.csv\")\n",
    "    output_path = os.path.join(output_dir, f\"{city}_features.csv\")\n",
    "    \n",
    "    if not os.path.exists(input_path):\n",
    "        print(f\"❌ Missing file: {input_path}\")\n",
    "        continue\n",
    "\n",
    "    df = pd.read_csv(input_path, parse_dates=['datetime'], index_col='datetime')\n",
    "\n",
    "    # Temporal Features\n",
    "    df['hour'] = df.index.hour\n",
    "    df['dayofweek'] = df.index.dayofweek\n",
    "    df['month'] = df.index.month\n",
    "    df['dayofyear'] = df.index.dayofyear\n",
    "\n",
    "    # Lag Features\n",
    "    df['ghi_lag1'] = df['ALLSKY_SFC_SW_DWN'].shift(1)\n",
    "    df['ghi_lag24'] = df['ALLSKY_SFC_SW_DWN'].shift(24)\n",
    "\n",
    "    # Rolling Mean Features\n",
    "    df['ghi_roll3'] = df['ALLSKY_SFC_SW_DWN'].rolling(window=3).mean()\n",
    "    df['ghi_roll24'] = df['ALLSKY_SFC_SW_DWN'].rolling(window=24).mean()\n",
    "\n",
    "    # Drop NA rows from lag/rolling\n",
    "    df.dropna(inplace=True)\n",
    "\n",
    "    # Save\n",
    "    df.to_csv(output_path)\n",
    "    print(f\"✅ Saved features to: {output_path}\")\n"
   ]
  }
 ],
 "metadata": {},
 "nbformat": 4,
 "nbformat_minor": 5
}
