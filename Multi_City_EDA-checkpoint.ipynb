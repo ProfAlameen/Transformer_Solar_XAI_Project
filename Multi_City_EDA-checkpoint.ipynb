{
 "cells": [
  {
   "cell_type": "markdown",
   "id": "cd174182",
   "metadata": {},
   "source": [
    "# Multi-City EDA for Solar Forecasting\n",
    "This notebook performs exploratory data analysis (EDA) on preprocessed NASA POWER data for five Saudi cities."
   ]
  },
  {
   "cell_type": "code",
   "execution_count": null,
   "id": "8752f255",
   "metadata": {},
   "outputs": [],
   "source": [
    "import pandas as pd\n",
    "import matplotlib.pyplot as plt\n",
    "import seaborn as sns\n",
    "import os\n",
    "\n",
    "sns.set(style=\"whitegrid\")\n",
    "%matplotlib inline\n",
    "\n",
    "data_dir = '../data/processed'\n",
    "cities = ['riyadh', 'tabuk', 'alula', 'abha', 'dammam']\n"
   ]
  },
  {
   "cell_type": "code",
   "execution_count": null,
   "id": "dd0774d6",
   "metadata": {},
   "outputs": [],
   "source": [
    "for city in cities:\n",
    "    print(f\"\\n📊 Analyzing data for {city.title()}...\")\n",
    "    filepath = os.path.join(data_dir, f\"{city}_processed.csv\")\n",
    "    if not os.path.exists(filepath):\n",
    "        print(f\"❌ File not found: {filepath}\")\n",
    "        continue\n",
    "\n",
    "    df = pd.read_csv(filepath, parse_dates=['datetime'], index_col='datetime')\n",
    "    df['month'] = df.index.month\n",
    "    df['hour'] = df.index.hour\n",
    "\n",
    "    display(df.describe())\n",
    "\n",
    "    # Daily trend\n",
    "    df['ALLSKY_SFC_SW_DWN'].resample('D').mean().plot(figsize=(12, 4), title=f'{city.title()} - Daily Solar Irradiance')\n",
    "    plt.ylabel('Wh/m²')\n",
    "    plt.grid(True)\n",
    "    plt.show()\n",
    "\n",
    "    # Correlation heatmap\n",
    "    plt.figure(figsize=(10, 6))\n",
    "    sns.heatmap(df.corr(), annot=True, cmap='coolwarm')\n",
    "    plt.title(f'{city.title()} - Correlation Between Variables')\n",
    "    plt.show()\n",
    "\n",
    "    # Hourly humidity\n",
    "    df.groupby('hour')['RH2M'].mean().plot()\n",
    "    plt.title(f'{city.title()} - Hourly Average Humidity')\n",
    "    plt.ylabel('%')\n",
    "    plt.grid(True)\n",
    "    plt.show()\n",
    "\n",
    "    # Hourly wind speed\n",
    "    df.groupby('hour')['WS2M'].mean().plot()\n",
    "    plt.title(f'{city.title()} - Hourly Average Wind Speed')\n",
    "    plt.ylabel('m/s')\n",
    "    plt.grid(True)\n",
    "    plt.show()\n"
   ]
  }
 ],
 "metadata": {},
 "nbformat": 4,
 "nbformat_minor": 5
}
