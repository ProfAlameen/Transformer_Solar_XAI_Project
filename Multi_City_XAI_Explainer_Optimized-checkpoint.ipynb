{
 "cells": [
  {
   "cell_type": "markdown",
   "id": "dc4b6514",
   "metadata": {},
   "source": [
    "# Multi-City XAI Explainer (Permutation Importance)\n",
    "This notebook analyzes feature importance using permutation importance for multiple cities. Optimized for speed using `n_repeats=5` and includes automatic saving."
   ]
  },
  {
   "cell_type": "code",
   "execution_count": null,
   "id": "32ee2922",
   "metadata": {},
   "outputs": [],
   "source": [
    "import pandas as pd\n",
    "import numpy as np\n",
    "import os\n",
    "from sklearn.inspection import permutation_importance\n",
    "from sklearn.linear_model import LinearRegression\n",
    "from sklearn.metrics import mean_squared_error\n",
    "import matplotlib.pyplot as plt\n",
    "import seaborn as sns\n",
    "\n",
    "# Set paths\n",
    "features_path = '../data/features'\n",
    "results_path = '../results/xai'\n",
    "os.makedirs(results_path, exist_ok=True)\n",
    "\n",
    "# City list\n",
    "cities = ['riyadh', 'tabuk', 'alula', 'abha', 'dammam']\n"
   ]
  },
  {
   "cell_type": "code",
   "execution_count": null,
   "id": "1cb842a7",
   "metadata": {},
   "outputs": [],
   "source": [
    "for city in cities:\n",
    "    print(f\"🔍 Analyzing {city.title()}...\")\n",
    "    file_path = os.path.join(features_path, f\"{city}_features.csv\")\n",
    "    df = pd.read_csv(file_path, parse_dates=['datetime'], index_col='datetime')\n",
    "\n",
    "    X = df.drop(columns=['ALLSKY_SFC_SW_DWN'])\n",
    "    y = df['ALLSKY_SFC_SW_DWN']\n",
    "\n",
    "    model = LinearRegression().fit(X, y)\n",
    "\n",
    "    result = permutation_importance(\n",
    "        model, X, y,\n",
    "        scoring='neg_mean_squared_error',\n",
    "        n_repeats=5,\n",
    "        random_state=42\n",
    "    )\n",
    "\n",
    "    importances = pd.DataFrame({\n",
    "        'feature': X.columns,\n",
    "        'importance': result.importances_mean\n",
    "    }).sort_values(by='importance', ascending=False)\n",
    "\n",
    "    # Save importances\n",
    "    csv_path = os.path.join(results_path, f\"{city}_xai_importance.csv\")\n",
    "    importances.to_csv(csv_path, index=False)\n",
    "\n",
    "    # Plot and save\n",
    "    plt.figure(figsize=(8, 5))\n",
    "    sns.barplot(x='importance', y='feature', data=importances, hue='feature', legend=False, palette='viridis')\n",
    "    plt.title(f'Permutation Importance - {city.title()}')\n",
    "    plt.xlabel('Importance Score')\n",
    "    plt.ylabel('Feature')\n",
    "    plt.tight_layout()\n",
    "\n",
    "    fig_path = os.path.join(results_path, f\"{city}_xai_importance.png\")\n",
    "    plt.savefig(fig_path)\n",
    "    plt.close()\n",
    "\n",
    "print(\"✅ XAI analysis complete and saved to /results/xai\")\n"
   ]
  }
 ],
 "metadata": {},
 "nbformat": 4,
 "nbformat_minor": 5
}
