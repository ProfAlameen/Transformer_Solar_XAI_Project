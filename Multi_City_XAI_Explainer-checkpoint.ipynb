{
 "cells": [
  {
   "cell_type": "markdown",
   "id": "5d53a036",
   "metadata": {},
   "source": [
    "# Multi-City XAI Explainer\n",
    "This notebook applies Permutation Feature Importance for all 5 cities."
   ]
  },
  {
   "cell_type": "code",
   "execution_count": null,
   "id": "afeb7083",
   "metadata": {},
   "outputs": [],
   "source": [
    "import pandas as pd\n",
    "import matplotlib.pyplot as plt\n",
    "import seaborn as sns\n",
    "from sklearn.ensemble import RandomForestRegressor\n",
    "from sklearn.inspection import permutation_importance\n",
    "from sklearn.model_selection import train_test_split\n",
    "import os\n",
    "\n",
    "# Set consistent plot style\n",
    "sns.set(style='whitegrid')\n"
   ]
  },
  {
   "cell_type": "code",
   "execution_count": null,
   "id": "723f48ba",
   "metadata": {},
   "outputs": [],
   "source": [
    "# List of cities and data directory\n",
    "cities = ['riyadh', 'tabuk', 'alula', 'abha', 'dammam']\n",
    "data_dir = '../data/features'\n",
    "save_dir = '../results/xai'\n",
    "\n",
    "os.makedirs(save_dir, exist_ok=True)\n"
   ]
  },
  {
   "cell_type": "code",
   "execution_count": null,
   "id": "6aed3ca6",
   "metadata": {},
   "outputs": [],
   "source": [
    "for city in cities:\n",
    "    print(f\"🔍 Analyzing {city.title()}...\")\n",
    "    file_path = os.path.join(data_dir, f\"{city}_features.csv\")\n",
    "    df = pd.read_csv(file_path, parse_dates=['datetime'])\n",
    "    df.drop(columns=['datetime'], inplace=True)\n",
    "\n",
    "    X = df.drop(columns=['ALLSKY_SFC_SW_DWN'])\n",
    "    y = df['ALLSKY_SFC_SW_DWN']\n",
    "\n",
    "    X_train, X_test, y_train, y_test = train_test_split(X, y, test_size=0.2, random_state=42)\n",
    "\n",
    "    model = RandomForestRegressor(n_estimators=100, random_state=42)\n",
    "    model.fit(X_train, y_train)\n",
    "\n",
    "    result = permutation_importance(model, X_test, y_test, n_repeats=10, random_state=42, n_jobs=-1)\n",
    "    importances = pd.DataFrame({\n",
    "        'feature': X.columns,\n",
    "        'importance': result.importances_mean\n",
    "    }).sort_values(by='importance', ascending=False)\n",
    "\n",
    "    # Save table\n",
    "    importances.to_csv(f\"{save_dir}/{city}_feature_importance.csv\", index=False)\n",
    "\n",
    "    # Plot and save\n",
    "    plt.figure(figsize=(8, 5))\n",
    "    sns.barplot(x='importance', y='feature', data=importances, palette='viridis')\n",
    "    plt.title(f'Permutation Importance - {city.title()}')\n",
    "    plt.xlabel(\"Mean Importance\")\n",
    "    plt.ylabel(\"Feature\")\n",
    "    plt.tight_layout()\n",
    "    plt.savefig(f\"{save_dir}/{city}_feature_importance.png\")\n",
    "    plt.close()\n"
   ]
  }
 ],
 "metadata": {},
 "nbformat": 4,
 "nbformat_minor": 5
}
