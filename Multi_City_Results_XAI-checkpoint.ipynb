{
 "cells": [
  {
   "cell_type": "markdown",
   "metadata": {},
   "source": [
    "# Step 7: Results Aggregation & Explainability\n",
    "This notebook visualizes forecasting results across multiple cities and lays the groundwork for explainable AI (XAI) analysis using SHAP or similar methods."
   ]
  },
  {
   "cell_type": "code",
   "execution_count": null,
   "metadata": {},
   "outputs": [],
   "source": [
    "import pandas as pd\n",
    "import matplotlib.pyplot as plt\n",
    "import seaborn as sns\n",
    "import os\n",
    "\n",
    "# Load results\n",
    "results_path = '../data/metrics/multi_city_results.csv'\n",
    "df = pd.read_csv(results_path)\n",
    "df"
   ]
  },
  {
   "cell_type": "code",
   "execution_count": null,
   "metadata": {},
   "outputs": [],
   "source": [
    "# Plot MAE, RMSE, R2\n",
    "fig, axs = plt.subplots(1, 3, figsize=(18, 5))\n",
    "\n",
    "sns.barplot(data=df, x='City', y='MAE', ax=axs[0], palette='Blues')\n",
    "axs[0].set_title('Mean Absolute Error')\n",
    "\n",
    "sns.barplot(data=df, x='City', y='RMSE', ax=axs[1], palette='Oranges')\n",
    "axs[1].set_title('Root Mean Squared Error')\n",
    "\n",
    "sns.barplot(data=df, x='City', y='R2 Score', ax=axs[2], palette='Greens')\n",
    "axs[2].set_title('R² Score')\n",
    "\n",
    "plt.suptitle('Forecasting Performance by City')\n",
    "plt.tight_layout()\n",
    "plt.savefig('../results/multi_city_metrics_comparison.png')\n",
    "plt.show()"
   ]
  },
  {
   "cell_type": "markdown",
   "metadata": {},
   "source": [
    "## Optional: Prepare for XAI\n",
    "If desired, the next step is loading a trained model and computing SHAP values.\n",
    "You can install SHAP with `pip install shap` and explore feature importances."
   ]
  }
 ],
 "metadata": {
  "kernelspec": {
   "display_name": "Python 3",
   "language": "python",
   "name": "python3"
  },
  "language_info": {
   "name": "python",
   "version": "3.9"
  }
 },
 "nbformat": 4,
 "nbformat_minor": 5
}
